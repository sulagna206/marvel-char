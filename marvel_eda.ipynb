{
  "nbformat": 4,
  "nbformat_minor": 0,
  "metadata": {
    "colab": {
      "name": "marvel-eda.ipynb",
      "provenance": [],
      "authorship_tag": "ABX9TyNLljK3TclmeG8BUAcGrT0D",
      "include_colab_link": true
    },
    "kernelspec": {
      "name": "python3",
      "display_name": "Python 3"
    },
    "language_info": {
      "name": "python"
    }
  },
  "cells": [
    {
      "cell_type": "markdown",
      "metadata": {
        "id": "view-in-github",
        "colab_type": "text"
      },
      "source": [
        "<a href=\"https://colab.research.google.com/github/sulagna206/marvel-char/blob/main/marvel_eda.ipynb\" target=\"_parent\"><img src=\"https://colab.research.google.com/assets/colab-badge.svg\" alt=\"Open In Colab\"/></a>"
      ]
    },
    {
      "cell_type": "code",
      "metadata": {
        "id": "Vm6YaBWaz4ib"
      },
      "source": [
        "import pandas as pd\n",
        "import numpy as np\n",
        "import matplotlib.pyplot as plt\n",
        "import seaborn as sns"
      ],
      "execution_count": 1,
      "outputs": []
    },
    {
      "cell_type": "code",
      "metadata": {
        "id": "kXNT_Stj0E41"
      },
      "source": [
        "marvel = pd.read_csv('https://sulagna206.github.io/marvel-char/charcters_stats.csv')"
      ],
      "execution_count": 4,
      "outputs": []
    },
    {
      "cell_type": "code",
      "metadata": {
        "colab": {
          "base_uri": "https://localhost:8080/",
          "height": 206
        },
        "id": "_c_VZwSM0b-Z",
        "outputId": "0dc4a559-8522-46ce-f20d-a53412e08429"
      },
      "source": [
        "marvel.head()"
      ],
      "execution_count": 5,
      "outputs": [
        {
          "output_type": "execute_result",
          "data": {
            "text/html": [
              "<div>\n",
              "<style scoped>\n",
              "    .dataframe tbody tr th:only-of-type {\n",
              "        vertical-align: middle;\n",
              "    }\n",
              "\n",
              "    .dataframe tbody tr th {\n",
              "        vertical-align: top;\n",
              "    }\n",
              "\n",
              "    .dataframe thead th {\n",
              "        text-align: right;\n",
              "    }\n",
              "</style>\n",
              "<table border=\"1\" class=\"dataframe\">\n",
              "  <thead>\n",
              "    <tr style=\"text-align: right;\">\n",
              "      <th></th>\n",
              "      <th>Name</th>\n",
              "      <th>Alignment</th>\n",
              "      <th>Intelligence</th>\n",
              "      <th>Strength</th>\n",
              "      <th>Speed</th>\n",
              "      <th>Durability</th>\n",
              "      <th>Power</th>\n",
              "      <th>Combat</th>\n",
              "      <th>Total</th>\n",
              "    </tr>\n",
              "  </thead>\n",
              "  <tbody>\n",
              "    <tr>\n",
              "      <th>0</th>\n",
              "      <td>3-D Man</td>\n",
              "      <td>good</td>\n",
              "      <td>50</td>\n",
              "      <td>31</td>\n",
              "      <td>43</td>\n",
              "      <td>32</td>\n",
              "      <td>25</td>\n",
              "      <td>52</td>\n",
              "      <td>233</td>\n",
              "    </tr>\n",
              "    <tr>\n",
              "      <th>1</th>\n",
              "      <td>A-Bomb</td>\n",
              "      <td>good</td>\n",
              "      <td>38</td>\n",
              "      <td>100</td>\n",
              "      <td>17</td>\n",
              "      <td>80</td>\n",
              "      <td>17</td>\n",
              "      <td>64</td>\n",
              "      <td>316</td>\n",
              "    </tr>\n",
              "    <tr>\n",
              "      <th>2</th>\n",
              "      <td>Abe Sapien</td>\n",
              "      <td>good</td>\n",
              "      <td>88</td>\n",
              "      <td>14</td>\n",
              "      <td>35</td>\n",
              "      <td>42</td>\n",
              "      <td>35</td>\n",
              "      <td>85</td>\n",
              "      <td>299</td>\n",
              "    </tr>\n",
              "    <tr>\n",
              "      <th>3</th>\n",
              "      <td>Abin Sur</td>\n",
              "      <td>good</td>\n",
              "      <td>50</td>\n",
              "      <td>90</td>\n",
              "      <td>53</td>\n",
              "      <td>64</td>\n",
              "      <td>84</td>\n",
              "      <td>65</td>\n",
              "      <td>406</td>\n",
              "    </tr>\n",
              "    <tr>\n",
              "      <th>4</th>\n",
              "      <td>Abomination</td>\n",
              "      <td>bad</td>\n",
              "      <td>63</td>\n",
              "      <td>80</td>\n",
              "      <td>53</td>\n",
              "      <td>90</td>\n",
              "      <td>55</td>\n",
              "      <td>95</td>\n",
              "      <td>436</td>\n",
              "    </tr>\n",
              "  </tbody>\n",
              "</table>\n",
              "</div>"
            ],
            "text/plain": [
              "          Name Alignment  Intelligence  ...  Power  Combat  Total\n",
              "0      3-D Man      good            50  ...     25      52    233\n",
              "1       A-Bomb      good            38  ...     17      64    316\n",
              "2   Abe Sapien      good            88  ...     35      85    299\n",
              "3     Abin Sur      good            50  ...     84      65    406\n",
              "4  Abomination       bad            63  ...     55      95    436\n",
              "\n",
              "[5 rows x 9 columns]"
            ]
          },
          "metadata": {},
          "execution_count": 5
        }
      ]
    },
    {
      "cell_type": "code",
      "metadata": {
        "colab": {
          "base_uri": "https://localhost:8080/"
        },
        "id": "-kjQAOyj0p0S",
        "outputId": "b8f8476d-709b-41ee-8d97-f58d813eaa87"
      },
      "source": [
        "marvel.shape"
      ],
      "execution_count": 6,
      "outputs": [
        {
          "output_type": "execute_result",
          "data": {
            "text/plain": [
              "(611, 9)"
            ]
          },
          "metadata": {},
          "execution_count": 6
        }
      ]
    },
    {
      "cell_type": "code",
      "metadata": {
        "colab": {
          "base_uri": "https://localhost:8080/",
          "height": 394
        },
        "id": "pytTXhmz2APZ",
        "outputId": "03e5c34b-b75a-45d5-eda5-eeb4b1bc1084"
      },
      "source": [
        "marvel.describe(include='all')"
      ],
      "execution_count": 8,
      "outputs": [
        {
          "output_type": "execute_result",
          "data": {
            "text/html": [
              "<div>\n",
              "<style scoped>\n",
              "    .dataframe tbody tr th:only-of-type {\n",
              "        vertical-align: middle;\n",
              "    }\n",
              "\n",
              "    .dataframe tbody tr th {\n",
              "        vertical-align: top;\n",
              "    }\n",
              "\n",
              "    .dataframe thead th {\n",
              "        text-align: right;\n",
              "    }\n",
              "</style>\n",
              "<table border=\"1\" class=\"dataframe\">\n",
              "  <thead>\n",
              "    <tr style=\"text-align: right;\">\n",
              "      <th></th>\n",
              "      <th>Name</th>\n",
              "      <th>Alignment</th>\n",
              "      <th>Intelligence</th>\n",
              "      <th>Strength</th>\n",
              "      <th>Speed</th>\n",
              "      <th>Durability</th>\n",
              "      <th>Power</th>\n",
              "      <th>Combat</th>\n",
              "      <th>Total</th>\n",
              "    </tr>\n",
              "  </thead>\n",
              "  <tbody>\n",
              "    <tr>\n",
              "      <th>count</th>\n",
              "      <td>611</td>\n",
              "      <td>608</td>\n",
              "      <td>611.000000</td>\n",
              "      <td>611.000000</td>\n",
              "      <td>611.000000</td>\n",
              "      <td>611.000000</td>\n",
              "      <td>611.000000</td>\n",
              "      <td>611.000000</td>\n",
              "      <td>611.000000</td>\n",
              "    </tr>\n",
              "    <tr>\n",
              "      <th>unique</th>\n",
              "      <td>610</td>\n",
              "      <td>3</td>\n",
              "      <td>NaN</td>\n",
              "      <td>NaN</td>\n",
              "      <td>NaN</td>\n",
              "      <td>NaN</td>\n",
              "      <td>NaN</td>\n",
              "      <td>NaN</td>\n",
              "      <td>NaN</td>\n",
              "    </tr>\n",
              "    <tr>\n",
              "      <th>top</th>\n",
              "      <td>Nova</td>\n",
              "      <td>good</td>\n",
              "      <td>NaN</td>\n",
              "      <td>NaN</td>\n",
              "      <td>NaN</td>\n",
              "      <td>NaN</td>\n",
              "      <td>NaN</td>\n",
              "      <td>NaN</td>\n",
              "      <td>NaN</td>\n",
              "    </tr>\n",
              "    <tr>\n",
              "      <th>freq</th>\n",
              "      <td>2</td>\n",
              "      <td>432</td>\n",
              "      <td>NaN</td>\n",
              "      <td>NaN</td>\n",
              "      <td>NaN</td>\n",
              "      <td>NaN</td>\n",
              "      <td>NaN</td>\n",
              "      <td>NaN</td>\n",
              "      <td>NaN</td>\n",
              "    </tr>\n",
              "    <tr>\n",
              "      <th>mean</th>\n",
              "      <td>NaN</td>\n",
              "      <td>NaN</td>\n",
              "      <td>44.502455</td>\n",
              "      <td>29.083470</td>\n",
              "      <td>27.306056</td>\n",
              "      <td>41.839607</td>\n",
              "      <td>40.312602</td>\n",
              "      <td>43.206219</td>\n",
              "      <td>226.250409</td>\n",
              "    </tr>\n",
              "    <tr>\n",
              "      <th>std</th>\n",
              "      <td>NaN</td>\n",
              "      <td>NaN</td>\n",
              "      <td>32.924722</td>\n",
              "      <td>32.610939</td>\n",
              "      <td>25.760173</td>\n",
              "      <td>36.543849</td>\n",
              "      <td>34.539910</td>\n",
              "      <td>33.270329</td>\n",
              "      <td>167.324034</td>\n",
              "    </tr>\n",
              "    <tr>\n",
              "      <th>min</th>\n",
              "      <td>NaN</td>\n",
              "      <td>NaN</td>\n",
              "      <td>1.000000</td>\n",
              "      <td>1.000000</td>\n",
              "      <td>1.000000</td>\n",
              "      <td>1.000000</td>\n",
              "      <td>0.000000</td>\n",
              "      <td>1.000000</td>\n",
              "      <td>5.000000</td>\n",
              "    </tr>\n",
              "    <tr>\n",
              "      <th>25%</th>\n",
              "      <td>NaN</td>\n",
              "      <td>NaN</td>\n",
              "      <td>1.000000</td>\n",
              "      <td>1.000000</td>\n",
              "      <td>1.000000</td>\n",
              "      <td>1.000000</td>\n",
              "      <td>0.000000</td>\n",
              "      <td>1.000000</td>\n",
              "      <td>5.000000</td>\n",
              "    </tr>\n",
              "    <tr>\n",
              "      <th>50%</th>\n",
              "      <td>NaN</td>\n",
              "      <td>NaN</td>\n",
              "      <td>50.000000</td>\n",
              "      <td>10.000000</td>\n",
              "      <td>23.000000</td>\n",
              "      <td>32.000000</td>\n",
              "      <td>37.000000</td>\n",
              "      <td>50.000000</td>\n",
              "      <td>255.000000</td>\n",
              "    </tr>\n",
              "    <tr>\n",
              "      <th>75%</th>\n",
              "      <td>NaN</td>\n",
              "      <td>NaN</td>\n",
              "      <td>75.000000</td>\n",
              "      <td>53.000000</td>\n",
              "      <td>42.000000</td>\n",
              "      <td>80.000000</td>\n",
              "      <td>67.000000</td>\n",
              "      <td>70.000000</td>\n",
              "      <td>351.500000</td>\n",
              "    </tr>\n",
              "    <tr>\n",
              "      <th>max</th>\n",
              "      <td>NaN</td>\n",
              "      <td>NaN</td>\n",
              "      <td>113.000000</td>\n",
              "      <td>100.000000</td>\n",
              "      <td>100.000000</td>\n",
              "      <td>120.000000</td>\n",
              "      <td>100.000000</td>\n",
              "      <td>101.000000</td>\n",
              "      <td>581.000000</td>\n",
              "    </tr>\n",
              "  </tbody>\n",
              "</table>\n",
              "</div>"
            ],
            "text/plain": [
              "        Name Alignment  Intelligence  ...       Power      Combat       Total\n",
              "count    611       608    611.000000  ...  611.000000  611.000000  611.000000\n",
              "unique   610         3           NaN  ...         NaN         NaN         NaN\n",
              "top     Nova      good           NaN  ...         NaN         NaN         NaN\n",
              "freq       2       432           NaN  ...         NaN         NaN         NaN\n",
              "mean     NaN       NaN     44.502455  ...   40.312602   43.206219  226.250409\n",
              "std      NaN       NaN     32.924722  ...   34.539910   33.270329  167.324034\n",
              "min      NaN       NaN      1.000000  ...    0.000000    1.000000    5.000000\n",
              "25%      NaN       NaN      1.000000  ...    0.000000    1.000000    5.000000\n",
              "50%      NaN       NaN     50.000000  ...   37.000000   50.000000  255.000000\n",
              "75%      NaN       NaN     75.000000  ...   67.000000   70.000000  351.500000\n",
              "max      NaN       NaN    113.000000  ...  100.000000  101.000000  581.000000\n",
              "\n",
              "[11 rows x 9 columns]"
            ]
          },
          "metadata": {},
          "execution_count": 8
        }
      ]
    },
    {
      "cell_type": "code",
      "metadata": {
        "colab": {
          "base_uri": "https://localhost:8080/"
        },
        "id": "uZT8qE1Q0rq2",
        "outputId": "1b8b5e32-8e84-4c14-a30f-9508b5912bab"
      },
      "source": [
        "marvel['Alignment'].value_counts()"
      ],
      "execution_count": 9,
      "outputs": [
        {
          "output_type": "execute_result",
          "data": {
            "text/plain": [
              "good       432\n",
              "bad        165\n",
              "neutral     11\n",
              "Name: Alignment, dtype: int64"
            ]
          },
          "metadata": {},
          "execution_count": 9
        }
      ]
    },
    {
      "cell_type": "code",
      "metadata": {
        "id": "mRgVA5djAezU"
      },
      "source": [
        "plt.figure(figsize=(10,5))\n",
        "sns.countplot(marvel['Alignment'])\n",
        "plt.show()"
      ],
      "execution_count": null,
      "outputs": []
    },
    {
      "cell_type": "code",
      "metadata": {
        "id": "KMceVTkG2Qw1"
      },
      "source": [
        "hero = marvel[marvel['Alignment']=='good']\n",
        "bad = marvel[marvel['Alignment']=='bad']\n",
        "neutral = marvel[marvel['Alignment']=='neutral']"
      ],
      "execution_count": 16,
      "outputs": []
    },
    {
      "cell_type": "code",
      "metadata": {
        "colab": {
          "base_uri": "https://localhost:8080/",
          "height": 423
        },
        "id": "Sp4hImpR22QN",
        "outputId": "141c5bb1-3ff5-470d-874e-652080c4eaef"
      },
      "source": [
        "#highest speed hero\n",
        "speed = hero.sort_values(by='Speed',ascending=False)\n",
        "speed"
      ],
      "execution_count": 36,
      "outputs": [
        {
          "output_type": "execute_result",
          "data": {
            "text/html": [
              "<div>\n",
              "<style scoped>\n",
              "    .dataframe tbody tr th:only-of-type {\n",
              "        vertical-align: middle;\n",
              "    }\n",
              "\n",
              "    .dataframe tbody tr th {\n",
              "        vertical-align: top;\n",
              "    }\n",
              "\n",
              "    .dataframe thead th {\n",
              "        text-align: right;\n",
              "    }\n",
              "</style>\n",
              "<table border=\"1\" class=\"dataframe\">\n",
              "  <thead>\n",
              "    <tr style=\"text-align: right;\">\n",
              "      <th></th>\n",
              "      <th>Name</th>\n",
              "      <th>Alignment</th>\n",
              "      <th>Intelligence</th>\n",
              "      <th>Strength</th>\n",
              "      <th>Speed</th>\n",
              "      <th>Durability</th>\n",
              "      <th>Power</th>\n",
              "      <th>Combat</th>\n",
              "      <th>Total</th>\n",
              "    </tr>\n",
              "  </thead>\n",
              "  <tbody>\n",
              "    <tr>\n",
              "      <th>231</th>\n",
              "      <td>Flash III</td>\n",
              "      <td>good</td>\n",
              "      <td>63</td>\n",
              "      <td>10</td>\n",
              "      <td>100</td>\n",
              "      <td>60</td>\n",
              "      <td>83</td>\n",
              "      <td>32</td>\n",
              "      <td>348</td>\n",
              "    </tr>\n",
              "    <tr>\n",
              "      <th>304</th>\n",
              "      <td>Jack of Hearts</td>\n",
              "      <td>good</td>\n",
              "      <td>63</td>\n",
              "      <td>55</td>\n",
              "      <td>100</td>\n",
              "      <td>30</td>\n",
              "      <td>70</td>\n",
              "      <td>30</td>\n",
              "      <td>348</td>\n",
              "    </tr>\n",
              "    <tr>\n",
              "      <th>295</th>\n",
              "      <td>Impulse</td>\n",
              "      <td>good</td>\n",
              "      <td>50</td>\n",
              "      <td>10</td>\n",
              "      <td>100</td>\n",
              "      <td>60</td>\n",
              "      <td>63</td>\n",
              "      <td>60</td>\n",
              "      <td>343</td>\n",
              "    </tr>\n",
              "    <tr>\n",
              "      <th>525</th>\n",
              "      <td>Stardust</td>\n",
              "      <td>good</td>\n",
              "      <td>88</td>\n",
              "      <td>85</td>\n",
              "      <td>100</td>\n",
              "      <td>110</td>\n",
              "      <td>100</td>\n",
              "      <td>85</td>\n",
              "      <td>568</td>\n",
              "    </tr>\n",
              "    <tr>\n",
              "      <th>447</th>\n",
              "      <td>Quicksilver</td>\n",
              "      <td>good</td>\n",
              "      <td>63</td>\n",
              "      <td>28</td>\n",
              "      <td>100</td>\n",
              "      <td>60</td>\n",
              "      <td>57</td>\n",
              "      <td>56</td>\n",
              "      <td>364</td>\n",
              "    </tr>\n",
              "    <tr>\n",
              "      <th>...</th>\n",
              "      <td>...</td>\n",
              "      <td>...</td>\n",
              "      <td>...</td>\n",
              "      <td>...</td>\n",
              "      <td>...</td>\n",
              "      <td>...</td>\n",
              "      <td>...</td>\n",
              "      <td>...</td>\n",
              "      <td>...</td>\n",
              "    </tr>\n",
              "    <tr>\n",
              "      <th>280</th>\n",
              "      <td>Hellstorm</td>\n",
              "      <td>good</td>\n",
              "      <td>1</td>\n",
              "      <td>1</td>\n",
              "      <td>1</td>\n",
              "      <td>1</td>\n",
              "      <td>0</td>\n",
              "      <td>1</td>\n",
              "      <td>5</td>\n",
              "    </tr>\n",
              "    <tr>\n",
              "      <th>445</th>\n",
              "      <td>Quantum</td>\n",
              "      <td>good</td>\n",
              "      <td>1</td>\n",
              "      <td>1</td>\n",
              "      <td>1</td>\n",
              "      <td>1</td>\n",
              "      <td>0</td>\n",
              "      <td>1</td>\n",
              "      <td>5</td>\n",
              "    </tr>\n",
              "    <tr>\n",
              "      <th>277</th>\n",
              "      <td>Hawkwoman III</td>\n",
              "      <td>good</td>\n",
              "      <td>1</td>\n",
              "      <td>1</td>\n",
              "      <td>1</td>\n",
              "      <td>1</td>\n",
              "      <td>0</td>\n",
              "      <td>1</td>\n",
              "      <td>5</td>\n",
              "    </tr>\n",
              "    <tr>\n",
              "      <th>276</th>\n",
              "      <td>Hawkwoman II</td>\n",
              "      <td>good</td>\n",
              "      <td>1</td>\n",
              "      <td>1</td>\n",
              "      <td>1</td>\n",
              "      <td>1</td>\n",
              "      <td>0</td>\n",
              "      <td>1</td>\n",
              "      <td>5</td>\n",
              "    </tr>\n",
              "    <tr>\n",
              "      <th>405</th>\n",
              "      <td>Namor</td>\n",
              "      <td>good</td>\n",
              "      <td>1</td>\n",
              "      <td>1</td>\n",
              "      <td>1</td>\n",
              "      <td>1</td>\n",
              "      <td>0</td>\n",
              "      <td>1</td>\n",
              "      <td>5</td>\n",
              "    </tr>\n",
              "  </tbody>\n",
              "</table>\n",
              "<p>432 rows × 9 columns</p>\n",
              "</div>"
            ],
            "text/plain": [
              "               Name Alignment  Intelligence  ...  Power  Combat  Total\n",
              "231       Flash III      good            63  ...     83      32    348\n",
              "304  Jack of Hearts      good            63  ...     70      30    348\n",
              "295         Impulse      good            50  ...     63      60    343\n",
              "525        Stardust      good            88  ...    100      85    568\n",
              "447     Quicksilver      good            63  ...     57      56    364\n",
              "..              ...       ...           ...  ...    ...     ...    ...\n",
              "280       Hellstorm      good             1  ...      0       1      5\n",
              "445         Quantum      good             1  ...      0       1      5\n",
              "277   Hawkwoman III      good             1  ...      0       1      5\n",
              "276    Hawkwoman II      good             1  ...      0       1      5\n",
              "405           Namor      good             1  ...      0       1      5\n",
              "\n",
              "[432 rows x 9 columns]"
            ]
          },
          "metadata": {},
          "execution_count": 36
        }
      ]
    },
    {
      "cell_type": "code",
      "metadata": {
        "colab": {
          "base_uri": "https://localhost:8080/",
          "height": 423
        },
        "id": "PxYDZnet4Lcm",
        "outputId": "82751538-62a1-403d-8dae-7555dea4cc03"
      },
      "source": [
        "#most powerful hero\n",
        "power = hero.sort_values(by='Power',ascending=False)\n",
        "power"
      ],
      "execution_count": 35,
      "outputs": [
        {
          "output_type": "execute_result",
          "data": {
            "text/html": [
              "<div>\n",
              "<style scoped>\n",
              "    .dataframe tbody tr th:only-of-type {\n",
              "        vertical-align: middle;\n",
              "    }\n",
              "\n",
              "    .dataframe tbody tr th {\n",
              "        vertical-align: top;\n",
              "    }\n",
              "\n",
              "    .dataframe thead th {\n",
              "        text-align: right;\n",
              "    }\n",
              "</style>\n",
              "<table border=\"1\" class=\"dataframe\">\n",
              "  <thead>\n",
              "    <tr style=\"text-align: right;\">\n",
              "      <th></th>\n",
              "      <th>Name</th>\n",
              "      <th>Alignment</th>\n",
              "      <th>Intelligence</th>\n",
              "      <th>Strength</th>\n",
              "      <th>Speed</th>\n",
              "      <th>Durability</th>\n",
              "      <th>Power</th>\n",
              "      <th>Combat</th>\n",
              "      <th>Total</th>\n",
              "    </tr>\n",
              "  </thead>\n",
              "  <tbody>\n",
              "    <tr>\n",
              "      <th>609</th>\n",
              "      <td>Zatanna</td>\n",
              "      <td>good</td>\n",
              "      <td>75</td>\n",
              "      <td>10</td>\n",
              "      <td>23</td>\n",
              "      <td>28</td>\n",
              "      <td>100</td>\n",
              "      <td>56</td>\n",
              "      <td>292</td>\n",
              "    </tr>\n",
              "    <tr>\n",
              "      <th>546</th>\n",
              "      <td>Thor</td>\n",
              "      <td>good</td>\n",
              "      <td>69</td>\n",
              "      <td>100</td>\n",
              "      <td>92</td>\n",
              "      <td>100</td>\n",
              "      <td>100</td>\n",
              "      <td>85</td>\n",
              "      <td>546</td>\n",
              "    </tr>\n",
              "    <tr>\n",
              "      <th>511</th>\n",
              "      <td>Spawn</td>\n",
              "      <td>good</td>\n",
              "      <td>75</td>\n",
              "      <td>60</td>\n",
              "      <td>50</td>\n",
              "      <td>90</td>\n",
              "      <td>100</td>\n",
              "      <td>95</td>\n",
              "      <td>470</td>\n",
              "    </tr>\n",
              "    <tr>\n",
              "      <th>69</th>\n",
              "      <td>Beta Ray Bill</td>\n",
              "      <td>good</td>\n",
              "      <td>63</td>\n",
              "      <td>80</td>\n",
              "      <td>35</td>\n",
              "      <td>95</td>\n",
              "      <td>100</td>\n",
              "      <td>84</td>\n",
              "      <td>457</td>\n",
              "    </tr>\n",
              "    <tr>\n",
              "      <th>70</th>\n",
              "      <td>Beyonder</td>\n",
              "      <td>good</td>\n",
              "      <td>88</td>\n",
              "      <td>100</td>\n",
              "      <td>23</td>\n",
              "      <td>100</td>\n",
              "      <td>100</td>\n",
              "      <td>56</td>\n",
              "      <td>467</td>\n",
              "    </tr>\n",
              "    <tr>\n",
              "      <th>...</th>\n",
              "      <td>...</td>\n",
              "      <td>...</td>\n",
              "      <td>...</td>\n",
              "      <td>...</td>\n",
              "      <td>...</td>\n",
              "      <td>...</td>\n",
              "      <td>...</td>\n",
              "      <td>...</td>\n",
              "      <td>...</td>\n",
              "    </tr>\n",
              "    <tr>\n",
              "      <th>127</th>\n",
              "      <td>Bumbleboy</td>\n",
              "      <td>good</td>\n",
              "      <td>1</td>\n",
              "      <td>1</td>\n",
              "      <td>1</td>\n",
              "      <td>1</td>\n",
              "      <td>0</td>\n",
              "      <td>1</td>\n",
              "      <td>5</td>\n",
              "    </tr>\n",
              "    <tr>\n",
              "      <th>124</th>\n",
              "      <td>Brother Voodoo</td>\n",
              "      <td>good</td>\n",
              "      <td>1</td>\n",
              "      <td>1</td>\n",
              "      <td>1</td>\n",
              "      <td>1</td>\n",
              "      <td>0</td>\n",
              "      <td>1</td>\n",
              "      <td>5</td>\n",
              "    </tr>\n",
              "    <tr>\n",
              "      <th>415</th>\n",
              "      <td>Nite Owl II</td>\n",
              "      <td>good</td>\n",
              "      <td>1</td>\n",
              "      <td>1</td>\n",
              "      <td>1</td>\n",
              "      <td>1</td>\n",
              "      <td>0</td>\n",
              "      <td>1</td>\n",
              "      <td>5</td>\n",
              "    </tr>\n",
              "    <tr>\n",
              "      <th>120</th>\n",
              "      <td>Box III</td>\n",
              "      <td>good</td>\n",
              "      <td>1</td>\n",
              "      <td>1</td>\n",
              "      <td>1</td>\n",
              "      <td>1</td>\n",
              "      <td>0</td>\n",
              "      <td>1</td>\n",
              "      <td>5</td>\n",
              "    </tr>\n",
              "    <tr>\n",
              "      <th>100</th>\n",
              "      <td>Blaquesmith</td>\n",
              "      <td>good</td>\n",
              "      <td>1</td>\n",
              "      <td>1</td>\n",
              "      <td>1</td>\n",
              "      <td>1</td>\n",
              "      <td>0</td>\n",
              "      <td>1</td>\n",
              "      <td>5</td>\n",
              "    </tr>\n",
              "  </tbody>\n",
              "</table>\n",
              "<p>432 rows × 9 columns</p>\n",
              "</div>"
            ],
            "text/plain": [
              "               Name Alignment  Intelligence  ...  Power  Combat  Total\n",
              "609         Zatanna      good            75  ...    100      56    292\n",
              "546            Thor      good            69  ...    100      85    546\n",
              "511           Spawn      good            75  ...    100      95    470\n",
              "69    Beta Ray Bill      good            63  ...    100      84    457\n",
              "70         Beyonder      good            88  ...    100      56    467\n",
              "..              ...       ...           ...  ...    ...     ...    ...\n",
              "127       Bumbleboy      good             1  ...      0       1      5\n",
              "124  Brother Voodoo      good             1  ...      0       1      5\n",
              "415     Nite Owl II      good             1  ...      0       1      5\n",
              "120         Box III      good             1  ...      0       1      5\n",
              "100     Blaquesmith      good             1  ...      0       1      5\n",
              "\n",
              "[432 rows x 9 columns]"
            ]
          },
          "metadata": {},
          "execution_count": 35
        }
      ]
    },
    {
      "cell_type": "code",
      "metadata": {
        "colab": {
          "base_uri": "https://localhost:8080/",
          "height": 206
        },
        "id": "3lAk8vyI4e0t",
        "outputId": "059f98ca-a27a-4425-e01d-5dc4782facea"
      },
      "source": [
        "#most intelligent hero\n",
        "intel = hero.sort_values(by='Intelligence',ascending=False)\n",
        "intel.head()"
      ],
      "execution_count": 34,
      "outputs": [
        {
          "output_type": "execute_result",
          "data": {
            "text/html": [
              "<div>\n",
              "<style scoped>\n",
              "    .dataframe tbody tr th:only-of-type {\n",
              "        vertical-align: middle;\n",
              "    }\n",
              "\n",
              "    .dataframe tbody tr th {\n",
              "        vertical-align: top;\n",
              "    }\n",
              "\n",
              "    .dataframe thead th {\n",
              "        text-align: right;\n",
              "    }\n",
              "</style>\n",
              "<table border=\"1\" class=\"dataframe\">\n",
              "  <thead>\n",
              "    <tr style=\"text-align: right;\">\n",
              "      <th></th>\n",
              "      <th>Name</th>\n",
              "      <th>Alignment</th>\n",
              "      <th>Intelligence</th>\n",
              "      <th>Strength</th>\n",
              "      <th>Speed</th>\n",
              "      <th>Durability</th>\n",
              "      <th>Power</th>\n",
              "      <th>Combat</th>\n",
              "      <th>Total</th>\n",
              "    </tr>\n",
              "  </thead>\n",
              "  <tbody>\n",
              "    <tr>\n",
              "      <th>361</th>\n",
              "      <td>Martian Manhunter</td>\n",
              "      <td>good</td>\n",
              "      <td>100</td>\n",
              "      <td>100</td>\n",
              "      <td>96</td>\n",
              "      <td>100</td>\n",
              "      <td>100</td>\n",
              "      <td>85</td>\n",
              "      <td>581</td>\n",
              "    </tr>\n",
              "    <tr>\n",
              "      <th>306</th>\n",
              "      <td>Jean Grey</td>\n",
              "      <td>good</td>\n",
              "      <td>100</td>\n",
              "      <td>80</td>\n",
              "      <td>67</td>\n",
              "      <td>100</td>\n",
              "      <td>100</td>\n",
              "      <td>70</td>\n",
              "      <td>517</td>\n",
              "    </tr>\n",
              "    <tr>\n",
              "      <th>123</th>\n",
              "      <td>Brainiac 5</td>\n",
              "      <td>good</td>\n",
              "      <td>100</td>\n",
              "      <td>10</td>\n",
              "      <td>23</td>\n",
              "      <td>28</td>\n",
              "      <td>60</td>\n",
              "      <td>32</td>\n",
              "      <td>253</td>\n",
              "    </tr>\n",
              "    <tr>\n",
              "      <th>433</th>\n",
              "      <td>Phoenix</td>\n",
              "      <td>good</td>\n",
              "      <td>100</td>\n",
              "      <td>80</td>\n",
              "      <td>67</td>\n",
              "      <td>100</td>\n",
              "      <td>100</td>\n",
              "      <td>70</td>\n",
              "      <td>517</td>\n",
              "    </tr>\n",
              "    <tr>\n",
              "      <th>417</th>\n",
              "      <td>Nova</td>\n",
              "      <td>good</td>\n",
              "      <td>100</td>\n",
              "      <td>85</td>\n",
              "      <td>67</td>\n",
              "      <td>101</td>\n",
              "      <td>100</td>\n",
              "      <td>85</td>\n",
              "      <td>538</td>\n",
              "    </tr>\n",
              "  </tbody>\n",
              "</table>\n",
              "</div>"
            ],
            "text/plain": [
              "                  Name Alignment  Intelligence  ...  Power  Combat  Total\n",
              "361  Martian Manhunter      good           100  ...    100      85    581\n",
              "306          Jean Grey      good           100  ...    100      70    517\n",
              "123         Brainiac 5      good           100  ...     60      32    253\n",
              "433            Phoenix      good           100  ...    100      70    517\n",
              "417               Nova      good           100  ...    100      85    538\n",
              "\n",
              "[5 rows x 9 columns]"
            ]
          },
          "metadata": {},
          "execution_count": 34
        }
      ]
    },
    {
      "cell_type": "code",
      "metadata": {
        "id": "1n7EVtTg5riS"
      },
      "source": [
        "#most strengthful hero\n",
        "strength= hero.sort_values(by='Strength',ascending=False)\n",
        "strength.head()"
      ],
      "execution_count": null,
      "outputs": []
    },
    {
      "cell_type": "code",
      "metadata": {
        "colab": {
          "base_uri": "https://localhost:8080/",
          "height": 206
        },
        "id": "OpG_0yrV54Pq",
        "outputId": "9d6acf66-63f1-4841-8102-e2a2c9d119ca"
      },
      "source": [
        "#good in combat\n",
        "combat = hero.sort_values(by='Combat',ascending=False)\n",
        "combat.head(5)"
      ],
      "execution_count": 33,
      "outputs": [
        {
          "output_type": "execute_result",
          "data": {
            "text/html": [
              "<div>\n",
              "<style scoped>\n",
              "    .dataframe tbody tr th:only-of-type {\n",
              "        vertical-align: middle;\n",
              "    }\n",
              "\n",
              "    .dataframe tbody tr th {\n",
              "        vertical-align: top;\n",
              "    }\n",
              "\n",
              "    .dataframe thead th {\n",
              "        text-align: right;\n",
              "    }\n",
              "</style>\n",
              "<table border=\"1\" class=\"dataframe\">\n",
              "  <thead>\n",
              "    <tr style=\"text-align: right;\">\n",
              "      <th></th>\n",
              "      <th>Name</th>\n",
              "      <th>Alignment</th>\n",
              "      <th>Intelligence</th>\n",
              "      <th>Strength</th>\n",
              "      <th>Speed</th>\n",
              "      <th>Durability</th>\n",
              "      <th>Power</th>\n",
              "      <th>Combat</th>\n",
              "      <th>Total</th>\n",
              "    </tr>\n",
              "  </thead>\n",
              "  <tbody>\n",
              "    <tr>\n",
              "      <th>36</th>\n",
              "      <td>Ares</td>\n",
              "      <td>good</td>\n",
              "      <td>75</td>\n",
              "      <td>82</td>\n",
              "      <td>35</td>\n",
              "      <td>80</td>\n",
              "      <td>62</td>\n",
              "      <td>101</td>\n",
              "      <td>435</td>\n",
              "    </tr>\n",
              "    <tr>\n",
              "      <th>298</th>\n",
              "      <td>Iron Fist</td>\n",
              "      <td>good</td>\n",
              "      <td>75</td>\n",
              "      <td>23</td>\n",
              "      <td>35</td>\n",
              "      <td>42</td>\n",
              "      <td>43</td>\n",
              "      <td>100</td>\n",
              "      <td>318</td>\n",
              "    </tr>\n",
              "    <tr>\n",
              "      <th>597</th>\n",
              "      <td>Wolverine</td>\n",
              "      <td>good</td>\n",
              "      <td>55</td>\n",
              "      <td>32</td>\n",
              "      <td>38</td>\n",
              "      <td>100</td>\n",
              "      <td>44</td>\n",
              "      <td>100</td>\n",
              "      <td>369</td>\n",
              "    </tr>\n",
              "    <tr>\n",
              "      <th>58</th>\n",
              "      <td>Batgirl IV</td>\n",
              "      <td>good</td>\n",
              "      <td>69</td>\n",
              "      <td>12</td>\n",
              "      <td>27</td>\n",
              "      <td>56</td>\n",
              "      <td>42</td>\n",
              "      <td>100</td>\n",
              "      <td>306</td>\n",
              "    </tr>\n",
              "    <tr>\n",
              "      <th>61</th>\n",
              "      <td>Batman</td>\n",
              "      <td>good</td>\n",
              "      <td>100</td>\n",
              "      <td>18</td>\n",
              "      <td>27</td>\n",
              "      <td>42</td>\n",
              "      <td>37</td>\n",
              "      <td>100</td>\n",
              "      <td>324</td>\n",
              "    </tr>\n",
              "  </tbody>\n",
              "</table>\n",
              "</div>"
            ],
            "text/plain": [
              "           Name Alignment  Intelligence  ...  Power  Combat  Total\n",
              "36         Ares      good            75  ...     62     101    435\n",
              "298   Iron Fist      good            75  ...     43     100    318\n",
              "597   Wolverine      good            55  ...     44     100    369\n",
              "58   Batgirl IV      good            69  ...     42     100    306\n",
              "61       Batman      good           100  ...     37     100    324\n",
              "\n",
              "[5 rows x 9 columns]"
            ]
          },
          "metadata": {},
          "execution_count": 33
        }
      ]
    },
    {
      "cell_type": "code",
      "metadata": {
        "id": "LWX3UAXT6os-"
      },
      "source": [
        "#best heros by total\n",
        "best = hero.sort_values(by='Total',ascending=False)\n",
        "best.head(5)"
      ],
      "execution_count": null,
      "outputs": []
    },
    {
      "cell_type": "code",
      "metadata": {
        "colab": {
          "base_uri": "https://localhost:8080/",
          "height": 206
        },
        "id": "wd5e0ljl7Dy7",
        "outputId": "9c00a645-3ebe-4ecf-9776-7097d5337918"
      },
      "source": [
        "#highest speed villain\n",
        "speed_b = bad.sort_values(by='Speed',ascending=False)\n",
        "speed_b.head()"
      ],
      "execution_count": 37,
      "outputs": [
        {
          "output_type": "execute_result",
          "data": {
            "text/html": [
              "<div>\n",
              "<style scoped>\n",
              "    .dataframe tbody tr th:only-of-type {\n",
              "        vertical-align: middle;\n",
              "    }\n",
              "\n",
              "    .dataframe tbody tr th {\n",
              "        vertical-align: top;\n",
              "    }\n",
              "\n",
              "    .dataframe thead th {\n",
              "        text-align: right;\n",
              "    }\n",
              "</style>\n",
              "<table border=\"1\" class=\"dataframe\">\n",
              "  <thead>\n",
              "    <tr style=\"text-align: right;\">\n",
              "      <th></th>\n",
              "      <th>Name</th>\n",
              "      <th>Alignment</th>\n",
              "      <th>Intelligence</th>\n",
              "      <th>Strength</th>\n",
              "      <th>Speed</th>\n",
              "      <th>Durability</th>\n",
              "      <th>Power</th>\n",
              "      <th>Combat</th>\n",
              "      <th>Total</th>\n",
              "    </tr>\n",
              "  </thead>\n",
              "  <tbody>\n",
              "    <tr>\n",
              "      <th>610</th>\n",
              "      <td>Zoom</td>\n",
              "      <td>bad</td>\n",
              "      <td>50</td>\n",
              "      <td>10</td>\n",
              "      <td>100</td>\n",
              "      <td>28</td>\n",
              "      <td>72</td>\n",
              "      <td>28</td>\n",
              "      <td>288</td>\n",
              "    </tr>\n",
              "    <tr>\n",
              "      <th>11</th>\n",
              "      <td>Air-Walker</td>\n",
              "      <td>bad</td>\n",
              "      <td>50</td>\n",
              "      <td>85</td>\n",
              "      <td>100</td>\n",
              "      <td>85</td>\n",
              "      <td>100</td>\n",
              "      <td>40</td>\n",
              "      <td>460</td>\n",
              "    </tr>\n",
              "    <tr>\n",
              "      <th>16</th>\n",
              "      <td>Amazo</td>\n",
              "      <td>bad</td>\n",
              "      <td>75</td>\n",
              "      <td>100</td>\n",
              "      <td>100</td>\n",
              "      <td>100</td>\n",
              "      <td>100</td>\n",
              "      <td>100</td>\n",
              "      <td>575</td>\n",
              "    </tr>\n",
              "    <tr>\n",
              "      <th>535</th>\n",
              "      <td>Superboy-Prime</td>\n",
              "      <td>bad</td>\n",
              "      <td>94</td>\n",
              "      <td>100</td>\n",
              "      <td>100</td>\n",
              "      <td>100</td>\n",
              "      <td>100</td>\n",
              "      <td>85</td>\n",
              "      <td>579</td>\n",
              "    </tr>\n",
              "    <tr>\n",
              "      <th>242</th>\n",
              "      <td>General Zod</td>\n",
              "      <td>bad</td>\n",
              "      <td>94</td>\n",
              "      <td>100</td>\n",
              "      <td>96</td>\n",
              "      <td>100</td>\n",
              "      <td>94</td>\n",
              "      <td>95</td>\n",
              "      <td>579</td>\n",
              "    </tr>\n",
              "  </tbody>\n",
              "</table>\n",
              "</div>"
            ],
            "text/plain": [
              "               Name Alignment  Intelligence  ...  Power  Combat  Total\n",
              "610            Zoom       bad            50  ...     72      28    288\n",
              "11       Air-Walker       bad            50  ...    100      40    460\n",
              "16            Amazo       bad            75  ...    100     100    575\n",
              "535  Superboy-Prime       bad            94  ...    100      85    579\n",
              "242     General Zod       bad            94  ...     94      95    579\n",
              "\n",
              "[5 rows x 9 columns]"
            ]
          },
          "metadata": {},
          "execution_count": 37
        }
      ]
    },
    {
      "cell_type": "code",
      "metadata": {
        "colab": {
          "base_uri": "https://localhost:8080/",
          "height": 206
        },
        "id": "jNOJuTkn7QfU",
        "outputId": "cbae2f92-ec65-4c4e-fcda-261a3888cbd4"
      },
      "source": [
        "#most intelligent vilain\n",
        "intel_b = bad.sort_values(by='Intelligence',ascending=False)\n",
        "intel_b.head()"
      ],
      "execution_count": 40,
      "outputs": [
        {
          "output_type": "execute_result",
          "data": {
            "text/html": [
              "<div>\n",
              "<style scoped>\n",
              "    .dataframe tbody tr th:only-of-type {\n",
              "        vertical-align: middle;\n",
              "    }\n",
              "\n",
              "    .dataframe tbody tr th {\n",
              "        vertical-align: top;\n",
              "    }\n",
              "\n",
              "    .dataframe thead th {\n",
              "        text-align: right;\n",
              "    }\n",
              "</style>\n",
              "<table border=\"1\" class=\"dataframe\">\n",
              "  <thead>\n",
              "    <tr style=\"text-align: right;\">\n",
              "      <th></th>\n",
              "      <th>Name</th>\n",
              "      <th>Alignment</th>\n",
              "      <th>Intelligence</th>\n",
              "      <th>Strength</th>\n",
              "      <th>Speed</th>\n",
              "      <th>Durability</th>\n",
              "      <th>Power</th>\n",
              "      <th>Combat</th>\n",
              "      <th>Total</th>\n",
              "    </tr>\n",
              "  </thead>\n",
              "  <tbody>\n",
              "    <tr>\n",
              "      <th>386</th>\n",
              "      <td>Mister Mxyzptlk</td>\n",
              "      <td>bad</td>\n",
              "      <td>113</td>\n",
              "      <td>10</td>\n",
              "      <td>12</td>\n",
              "      <td>14</td>\n",
              "      <td>100</td>\n",
              "      <td>28</td>\n",
              "      <td>277</td>\n",
              "    </tr>\n",
              "    <tr>\n",
              "      <th>338</th>\n",
              "      <td>Lex Luthor</td>\n",
              "      <td>bad</td>\n",
              "      <td>100</td>\n",
              "      <td>10</td>\n",
              "      <td>12</td>\n",
              "      <td>14</td>\n",
              "      <td>10</td>\n",
              "      <td>28</td>\n",
              "      <td>174</td>\n",
              "    </tr>\n",
              "    <tr>\n",
              "      <th>336</th>\n",
              "      <td>Leader</td>\n",
              "      <td>bad</td>\n",
              "      <td>100</td>\n",
              "      <td>10</td>\n",
              "      <td>12</td>\n",
              "      <td>14</td>\n",
              "      <td>58</td>\n",
              "      <td>42</td>\n",
              "      <td>236</td>\n",
              "    </tr>\n",
              "    <tr>\n",
              "      <th>122</th>\n",
              "      <td>Brainiac</td>\n",
              "      <td>bad</td>\n",
              "      <td>100</td>\n",
              "      <td>28</td>\n",
              "      <td>63</td>\n",
              "      <td>90</td>\n",
              "      <td>60</td>\n",
              "      <td>75</td>\n",
              "      <td>416</td>\n",
              "    </tr>\n",
              "    <tr>\n",
              "      <th>194</th>\n",
              "      <td>Doctor Doom</td>\n",
              "      <td>bad</td>\n",
              "      <td>100</td>\n",
              "      <td>32</td>\n",
              "      <td>20</td>\n",
              "      <td>100</td>\n",
              "      <td>93</td>\n",
              "      <td>84</td>\n",
              "      <td>429</td>\n",
              "    </tr>\n",
              "  </tbody>\n",
              "</table>\n",
              "</div>"
            ],
            "text/plain": [
              "                Name Alignment  Intelligence  ...  Power  Combat  Total\n",
              "386  Mister Mxyzptlk       bad           113  ...    100      28    277\n",
              "338       Lex Luthor       bad           100  ...     10      28    174\n",
              "336           Leader       bad           100  ...     58      42    236\n",
              "122         Brainiac       bad           100  ...     60      75    416\n",
              "194      Doctor Doom       bad           100  ...     93      84    429\n",
              "\n",
              "[5 rows x 9 columns]"
            ]
          },
          "metadata": {},
          "execution_count": 40
        }
      ]
    },
    {
      "cell_type": "code",
      "metadata": {
        "colab": {
          "base_uri": "https://localhost:8080/",
          "height": 206
        },
        "id": "TrLyY_Y78b2a",
        "outputId": "7d964853-31ec-48d1-d4c1-567f657959ad"
      },
      "source": [
        "#most powerful vilain\n",
        "power_b = bad.sort_values(by='Power',ascending=False)\n",
        "power_b.head()"
      ],
      "execution_count": 41,
      "outputs": [
        {
          "output_type": "execute_result",
          "data": {
            "text/html": [
              "<div>\n",
              "<style scoped>\n",
              "    .dataframe tbody tr th:only-of-type {\n",
              "        vertical-align: middle;\n",
              "    }\n",
              "\n",
              "    .dataframe tbody tr th {\n",
              "        vertical-align: top;\n",
              "    }\n",
              "\n",
              "    .dataframe thead th {\n",
              "        text-align: right;\n",
              "    }\n",
              "</style>\n",
              "<table border=\"1\" class=\"dataframe\">\n",
              "  <thead>\n",
              "    <tr style=\"text-align: right;\">\n",
              "      <th></th>\n",
              "      <th>Name</th>\n",
              "      <th>Alignment</th>\n",
              "      <th>Intelligence</th>\n",
              "      <th>Strength</th>\n",
              "      <th>Speed</th>\n",
              "      <th>Durability</th>\n",
              "      <th>Power</th>\n",
              "      <th>Combat</th>\n",
              "      <th>Total</th>\n",
              "    </tr>\n",
              "  </thead>\n",
              "  <tbody>\n",
              "    <tr>\n",
              "      <th>564</th>\n",
              "      <td>Ultron</td>\n",
              "      <td>bad</td>\n",
              "      <td>88</td>\n",
              "      <td>83</td>\n",
              "      <td>42</td>\n",
              "      <td>100</td>\n",
              "      <td>100</td>\n",
              "      <td>64</td>\n",
              "      <td>477</td>\n",
              "    </tr>\n",
              "    <tr>\n",
              "      <th>422</th>\n",
              "      <td>Onslaught</td>\n",
              "      <td>bad</td>\n",
              "      <td>88</td>\n",
              "      <td>85</td>\n",
              "      <td>47</td>\n",
              "      <td>100</td>\n",
              "      <td>100</td>\n",
              "      <td>85</td>\n",
              "      <td>505</td>\n",
              "    </tr>\n",
              "    <tr>\n",
              "      <th>180</th>\n",
              "      <td>Darkseid</td>\n",
              "      <td>bad</td>\n",
              "      <td>88</td>\n",
              "      <td>100</td>\n",
              "      <td>23</td>\n",
              "      <td>100</td>\n",
              "      <td>100</td>\n",
              "      <td>95</td>\n",
              "      <td>506</td>\n",
              "    </tr>\n",
              "    <tr>\n",
              "      <th>501</th>\n",
              "      <td>Sinestro</td>\n",
              "      <td>bad</td>\n",
              "      <td>75</td>\n",
              "      <td>80</td>\n",
              "      <td>53</td>\n",
              "      <td>64</td>\n",
              "      <td>100</td>\n",
              "      <td>56</td>\n",
              "      <td>428</td>\n",
              "    </tr>\n",
              "    <tr>\n",
              "      <th>386</th>\n",
              "      <td>Mister Mxyzptlk</td>\n",
              "      <td>bad</td>\n",
              "      <td>113</td>\n",
              "      <td>10</td>\n",
              "      <td>12</td>\n",
              "      <td>14</td>\n",
              "      <td>100</td>\n",
              "      <td>28</td>\n",
              "      <td>277</td>\n",
              "    </tr>\n",
              "  </tbody>\n",
              "</table>\n",
              "</div>"
            ],
            "text/plain": [
              "                Name Alignment  Intelligence  ...  Power  Combat  Total\n",
              "564           Ultron       bad            88  ...    100      64    477\n",
              "422        Onslaught       bad            88  ...    100      85    505\n",
              "180         Darkseid       bad            88  ...    100      95    506\n",
              "501         Sinestro       bad            75  ...    100      56    428\n",
              "386  Mister Mxyzptlk       bad           113  ...    100      28    277\n",
              "\n",
              "[5 rows x 9 columns]"
            ]
          },
          "metadata": {},
          "execution_count": 41
        }
      ]
    },
    {
      "cell_type": "code",
      "metadata": {
        "colab": {
          "base_uri": "https://localhost:8080/",
          "height": 206
        },
        "id": "BH_zTKUc8pqG",
        "outputId": "40926b5e-4948-4d03-d070-996848410db7"
      },
      "source": [
        "#best villain\n",
        "best_v = bad.sort_values(by='Total',ascending=False)\n",
        "best_v.head()"
      ],
      "execution_count": 42,
      "outputs": [
        {
          "output_type": "execute_result",
          "data": {
            "text/html": [
              "<div>\n",
              "<style scoped>\n",
              "    .dataframe tbody tr th:only-of-type {\n",
              "        vertical-align: middle;\n",
              "    }\n",
              "\n",
              "    .dataframe tbody tr th {\n",
              "        vertical-align: top;\n",
              "    }\n",
              "\n",
              "    .dataframe thead th {\n",
              "        text-align: right;\n",
              "    }\n",
              "</style>\n",
              "<table border=\"1\" class=\"dataframe\">\n",
              "  <thead>\n",
              "    <tr style=\"text-align: right;\">\n",
              "      <th></th>\n",
              "      <th>Name</th>\n",
              "      <th>Alignment</th>\n",
              "      <th>Intelligence</th>\n",
              "      <th>Strength</th>\n",
              "      <th>Speed</th>\n",
              "      <th>Durability</th>\n",
              "      <th>Power</th>\n",
              "      <th>Combat</th>\n",
              "      <th>Total</th>\n",
              "    </tr>\n",
              "  </thead>\n",
              "  <tbody>\n",
              "    <tr>\n",
              "      <th>535</th>\n",
              "      <td>Superboy-Prime</td>\n",
              "      <td>bad</td>\n",
              "      <td>94</td>\n",
              "      <td>100</td>\n",
              "      <td>100</td>\n",
              "      <td>100</td>\n",
              "      <td>100</td>\n",
              "      <td>85</td>\n",
              "      <td>579</td>\n",
              "    </tr>\n",
              "    <tr>\n",
              "      <th>242</th>\n",
              "      <td>General Zod</td>\n",
              "      <td>bad</td>\n",
              "      <td>94</td>\n",
              "      <td>100</td>\n",
              "      <td>96</td>\n",
              "      <td>100</td>\n",
              "      <td>94</td>\n",
              "      <td>95</td>\n",
              "      <td>579</td>\n",
              "    </tr>\n",
              "    <tr>\n",
              "      <th>16</th>\n",
              "      <td>Amazo</td>\n",
              "      <td>bad</td>\n",
              "      <td>75</td>\n",
              "      <td>100</td>\n",
              "      <td>100</td>\n",
              "      <td>100</td>\n",
              "      <td>100</td>\n",
              "      <td>100</td>\n",
              "      <td>575</td>\n",
              "    </tr>\n",
              "    <tr>\n",
              "      <th>203</th>\n",
              "      <td>Dormammu</td>\n",
              "      <td>bad</td>\n",
              "      <td>88</td>\n",
              "      <td>95</td>\n",
              "      <td>83</td>\n",
              "      <td>100</td>\n",
              "      <td>100</td>\n",
              "      <td>80</td>\n",
              "      <td>546</td>\n",
              "    </tr>\n",
              "    <tr>\n",
              "      <th>201</th>\n",
              "      <td>Doomsday</td>\n",
              "      <td>bad</td>\n",
              "      <td>88</td>\n",
              "      <td>80</td>\n",
              "      <td>67</td>\n",
              "      <td>120</td>\n",
              "      <td>100</td>\n",
              "      <td>90</td>\n",
              "      <td>545</td>\n",
              "    </tr>\n",
              "  </tbody>\n",
              "</table>\n",
              "</div>"
            ],
            "text/plain": [
              "               Name Alignment  Intelligence  ...  Power  Combat  Total\n",
              "535  Superboy-Prime       bad            94  ...    100      85    579\n",
              "242     General Zod       bad            94  ...     94      95    579\n",
              "16            Amazo       bad            75  ...    100     100    575\n",
              "203        Dormammu       bad            88  ...    100      80    546\n",
              "201        Doomsday       bad            88  ...    100      90    545\n",
              "\n",
              "[5 rows x 9 columns]"
            ]
          },
          "metadata": {},
          "execution_count": 42
        }
      ]
    },
    {
      "cell_type": "code",
      "metadata": {
        "colab": {
          "base_uri": "https://localhost:8080/",
          "height": 277
        },
        "id": "kcTVxJL688uK",
        "outputId": "daf3a029-b03f-4fe7-b3dc-996b1ef7e070"
      },
      "source": [
        "plt.figure(figsize=(20,4))\n",
        "plt.subplot(1,2,1)\n",
        "sns.barplot(x='Name',y='Total',data=best[:5])\n",
        "plt.subplot(1,2,2)\n",
        "sns.barplot(x='Name',y='Total',data=best_v[:5])\n",
        "plt.show()"
      ],
      "execution_count": 47,
      "outputs": [
        {
          "output_type": "display_data",
          "data": {
            "image/png": "[encoded data removed]",
            "text/plain": [
              "<Figure size 1440x288 with 2 Axes>"
            ]
          },
          "metadata": {
            "needs_background": "light"
          }
        }
      ]
    },
    {
      "cell_type": "code",
      "metadata": {
        "colab": {
          "base_uri": "https://localhost:8080/",
          "height": 351
        },
        "id": "m10WNzD799G7",
        "outputId": "6bf58367-132a-4d21-9aa6-43853e590e67"
      },
      "source": [
        "ax = plt.figure(figsize=(17,4)).gca()\n",
        "marvel.hist(by='Alignment',column='Speed',ax=ax)\n",
        "plt.suptitle('Distribution of Speed')\n",
        "plt.show()"
      ],
      "execution_count": 62,
      "outputs": [
        {
          "output_type": "stream",
          "name": "stderr",
          "text": [
            "/usr/local/lib/python3.7/dist-packages/pandas/plotting/_matplotlib/hist.py:403: UserWarning: To output multiple subplots, the figure containing the passed axes is being cleared\n",
            "  **kwds,\n"
          ]
        },
        {
          "output_type": "display_data",
          "data": {
            "image/png": "[encoded data removed]",
            "text/plain": [
              "<Figure size 1224x288 with 4 Axes>"
            ]
          },
          "metadata": {
            "needs_background": "light"
          }
        }
      ]
    },
    {
      "cell_type": "code",
      "metadata": {
        "colab": {
          "base_uri": "https://localhost:8080/",
          "height": 351
        },
        "id": "6o3HaWBZAFms",
        "outputId": "0dfa74ac-7e13-4289-d0f5-580f25d98eb9"
      },
      "source": [
        "ax = plt.figure(figsize=(17,4)).gca()\n",
        "marvel.hist(by='Alignment',column='Combat',ax=ax)\n",
        "plt.suptitle('Distribution of Combat')\n",
        "plt.show()"
      ],
      "execution_count": 61,
      "outputs": [
        {
          "output_type": "stream",
          "name": "stderr",
          "text": [
            "/usr/local/lib/python3.7/dist-packages/pandas/plotting/_matplotlib/hist.py:403: UserWarning: To output multiple subplots, the figure containing the passed axes is being cleared\n",
            "  **kwds,\n"
          ]
        },
        {
          "output_type": "display_data",
          "data": {
            "image/png": "[encoded data removed]",
            "text/plain": [
              "<Figure size 1224x288 with 4 Axes>"
            ]
          },
          "metadata": {
            "needs_background": "light"
          }
        }
      ]
    },
    {
      "cell_type": "code",
      "metadata": {
        "colab": {
          "base_uri": "https://localhost:8080/",
          "height": 351
        },
        "id": "vbU4n_3PA3T0",
        "outputId": "2d9a57a9-b2ca-4c8e-cac0-b78d159474c7"
      },
      "source": [
        "ax = plt.figure(figsize=(17,4)).gca()\n",
        "marvel.hist(by='Alignment',column='Intelligence',ax=ax)\n",
        "plt.suptitle('Distribution of Intelligence')\n",
        "plt.show()"
      ],
      "execution_count": 63,
      "outputs": [
        {
          "output_type": "stream",
          "name": "stderr",
          "text": [
            "/usr/local/lib/python3.7/dist-packages/pandas/plotting/_matplotlib/hist.py:403: UserWarning: To output multiple subplots, the figure containing the passed axes is being cleared\n",
            "  **kwds,\n"
          ]
        },
        {
          "output_type": "display_data",
          "data": {
            "image/png": "[encoded data removed]",
            "text/plain": [
              "<Figure size 1224x288 with 4 Axes>"
            ]
          },
          "metadata": {
            "needs_background": "light"
          }
        }
      ]
    },
    {
      "cell_type": "code",
      "metadata": {
        "colab": {
          "base_uri": "https://localhost:8080/",
          "height": 351
        },
        "id": "sgGZs8qzCduY",
        "outputId": "6a33c9a6-965e-4d6a-8eb3-6aa8e4d48772"
      },
      "source": [
        "ax = plt.figure(figsize=(17,4)).gca()\n",
        "marvel.hist(by='Alignment',column='Power',ax=ax)\n",
        "plt.suptitle('Distribution of Power')\n",
        "plt.show()"
      ],
      "execution_count": 70,
      "outputs": [
        {
          "output_type": "stream",
          "name": "stderr",
          "text": [
            "/usr/local/lib/python3.7/dist-packages/pandas/plotting/_matplotlib/hist.py:403: UserWarning: To output multiple subplots, the figure containing the passed axes is being cleared\n",
            "  **kwds,\n"
          ]
        },
        {
          "output_type": "display_data",
          "data": {
            "image/png": "[encoded data removed]",
            "text/plain": [
              "<Figure size 1224x288 with 4 Axes>"
            ]
          },
          "metadata": {
            "needs_background": "light"
          }
        }
      ]
    },
    {
      "cell_type": "code",
      "metadata": {
        "colab": {
          "base_uri": "https://localhost:8080/",
          "height": 351
        },
        "id": "syCDpFL8Cun7",
        "outputId": "a7aa168f-0808-448b-d0ec-0ba2f08e5a44"
      },
      "source": [
        "ax = plt.figure(figsize=(17,4)).gca()\n",
        "marvel.hist(by='Alignment',column='Total',ax=ax)\n",
        "plt.suptitle('Distribution of Total')\n",
        "plt.show()"
      ],
      "execution_count": 71,
      "outputs": [
        {
          "output_type": "stream",
          "name": "stderr",
          "text": [
            "/usr/local/lib/python3.7/dist-packages/pandas/plotting/_matplotlib/hist.py:403: UserWarning: To output multiple subplots, the figure containing the passed axes is being cleared\n",
            "  **kwds,\n"
          ]
        },
        {
          "output_type": "display_data",
          "data": {
            "image/png": "[encoded data removed]",
            "text/plain": [
              "<Figure size 1224x288 with 4 Axes>"
            ]
          },
          "metadata": {
            "needs_background": "light"
          }
        }
      ]
    },
    {
      "cell_type": "code",
      "metadata": {
        "colab": {
          "base_uri": "https://localhost:8080/",
          "height": 318
        },
        "id": "q0uoE9EwBQDM",
        "outputId": "3fee74f0-40ba-4a96-a667-1af1c509af65"
      },
      "source": [
        "corr1 = hero.corr()\n",
        "sns.heatmap(corr1)\n",
        "plt.show()"
      ],
      "execution_count": 68,
      "outputs": [
        {
          "output_type": "display_data",
          "data": {
            "image/png": "[encoded data removed]",
            "text/plain": [
              "<Figure size 432x288 with 2 Axes>"
            ]
          },
          "metadata": {
            "needs_background": "light"
          }
        }
      ]
    },
    {
      "cell_type": "code",
      "metadata": {
        "colab": {
          "base_uri": "https://localhost:8080/",
          "height": 318
        },
        "id": "kP_jjJlLCJjL",
        "outputId": "60dc3951-d755-4b51-9e84-fc2c941f7875"
      },
      "source": [
        "corr2 = bad.corr()\n",
        "sns.heatmap(corr2)\n",
        "plt.show()"
      ],
      "execution_count": 69,
      "outputs": [
        {
          "output_type": "display_data",
          "data": {
            "image/png": "[encoded data removed]",
            "text/plain": [
              "<Figure size 432x288 with 2 Axes>"
            ]
          },
          "metadata": {
            "needs_background": "light"
          }
        }
      ]
    }
  ]
}